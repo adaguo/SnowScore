{
 "cells": [
  {
   "cell_type": "code",
   "execution_count": 2,
   "metadata": {},
   "outputs": [],
   "source": [
    "import json\n",
    "import glob\n",
    "import os\n",
    "import numpy"
   ]
  },
  {
   "cell_type": "code",
   "execution_count": 28,
   "metadata": {},
   "outputs": [],
   "source": [
    "def read_json_files(path_to_file):\n",
    "    with open(path_to_file) as p:\n",
    "        return json.load(p)\n",
    "        \n",
    "\n",
    "def giant_list(json_files):\n",
    "    return [read_json_files(f) for f in json_files]\n",
    "\n",
    "def parse_json(json_file):\n",
    "    if len(json_file['people']) > 0:\n",
    "        return json_file['people'][0].get('pose_keypoints_2d', [])\n",
    "    \n",
    "    return []\n",
    "\n",
    "def format_XY(XY):\n",
    "    X = [xy[::3] for xy in XY]\n",
    "    Y = [xy[1::3] for xy in XY]\n",
    "    \n",
    "    return numpy.array(X), numpy.array(Y)\n",
    "\n",
    "def normalize_input_data(input_data):\n",
    "    #print(input_data)\n",
    "    max_d, min_d = numpy.max(input_data), numpy.min(input_data)\n",
    "    #print(max_d, min_d)\n",
    "    return (input_data-min_d) / (max_d-min_d)\n",
    "\n",
    "def preprocessing(file_path, cut_off=75):\n",
    "    print(file_path)\n",
    "    origin_json = giant_list(sorted(glob.glob(file_path+\"/*.json\"), key=os.path.getmtime))\n",
    "    XY = [parse_json(j) for j in origin_json]\n",
    "    XY = [xy for xy in XY if xy][:75]\n",
    "    \n",
    "    X, Y = format_XY(XY)\n",
    "    print(X.shape, Y.shape)\n",
    "    \n",
    "    X = normalize_input_data(X)\n",
    "    Y = normalize_input_data(Y)\n",
    "    return [X, Y]\n",
    "    \n",
    "    \n",
    "def preprocessiongDir(dir_path):\n",
    "    path = glob.glob(os.path.join(dir_path, '*'))\n",
    "    samples = [numpy.array(preprocessing(f)).reshape(-1) for f in path]\n",
    "    print(len(samples))\n",
    "    return numpy.array(samples)\n",
    "    \n",
    "    "
   ]
  },
  {
   "cell_type": "code",
   "execution_count": 31,
   "metadata": {},
   "outputs": [
    {
     "name": "stdout",
     "output_type": "stream",
     "text": [
      "../input_data/train/MyPlayground-59-of-67\n",
      "(75, 25) (75, 25)\n",
      "../input_data/train/12-38\n",
      "(75, 25) (75, 25)\n",
      "../input_data/train/12-39\n",
      "(75, 25) (75, 25)\n",
      "../input_data/train/MyPlayground-52-of-67\n",
      "(75, 25) (75, 25)\n",
      "../input_data/train/0-13-of-19\n",
      "(75, 25) (75, 25)\n",
      "../input_data/train/0-15-of-19\n",
      "(75, 25) (75, 25)\n",
      "../input_data/train/0-10-of-19\n",
      "(75, 25) (75, 25)\n",
      "../input_data/train/test-2-of-9.mp4\n",
      "(75, 25) (75, 25)\n",
      "../input_data/train/0-6-of-19\n",
      "(75, 25) (75, 25)\n",
      "../input_data/train/0-14-of-19\n",
      "(75, 25) (75, 25)\n",
      "10\n"
     ]
    }
   ],
   "source": [
    "train_data = preprocessiongDir('../input_data/train/')\n",
    "train_target = numpy.array([1] * 10)"
   ]
  },
  {
   "cell_type": "code",
   "execution_count": 41,
   "metadata": {},
   "outputs": [
    {
     "name": "stdout",
     "output_type": "stream",
     "text": [
      "../input_data/test/test-7-of-9.mp4\n",
      "(75, 25) (75, 25)\n",
      "../input_data/test/MyPlayground-58-of-67\n",
      "(75, 25) (75, 25)\n",
      "2\n"
     ]
    }
   ],
   "source": [
    "tensor_test = preprocessiongDir('../input_data/test/')\n",
    "test_target = numpy.array([1, 1])"
   ]
  },
  {
   "cell_type": "code",
   "execution_count": 42,
   "metadata": {},
   "outputs": [
    {
     "name": "stdout",
     "output_type": "stream",
     "text": [
      "_________________________________________________________________\n",
      "Layer (type)                 Output Shape              Param #   \n",
      "=================================================================\n",
      "dense_13 (Dense)             (None, 256)               960256    \n",
      "_________________________________________________________________\n",
      "dense_14 (Dense)             (None, 128)               32896     \n",
      "_________________________________________________________________\n",
      "dense_15 (Dense)             (None, 16)                2064      \n",
      "_________________________________________________________________\n",
      "dense_16 (Dense)             (None, 1)                 17        \n",
      "=================================================================\n",
      "Total params: 995,233\n",
      "Trainable params: 995,233\n",
      "Non-trainable params: 0\n",
      "_________________________________________________________________\n",
      "Epoch 1/30\n",
      "10/10 [==============================] - 0s 32ms/step - loss: 1.3358 - acc: 0.0000e+00\n",
      "Epoch 2/30\n",
      "10/10 [==============================] - 0s 794us/step - loss: 8.1182e-06 - acc: 1.0000\n",
      "Epoch 3/30\n",
      "10/10 [==============================] - 0s 662us/step - loss: 7.3314e-07 - acc: 1.0000\n",
      "Epoch 4/30\n",
      "10/10 [==============================] - 0s 841us/step - loss: 5.9605e-07 - acc: 1.0000\n",
      "Epoch 5/30\n",
      "10/10 [==============================] - 0s 578us/step - loss: 5.1856e-07 - acc: 1.0000\n",
      "Epoch 6/30\n",
      "10/10 [==============================] - 0s 917us/step - loss: 4.7088e-07 - acc: 1.0000\n",
      "Epoch 7/30\n",
      "10/10 [==============================] - 0s 940us/step - loss: 4.1723e-07 - acc: 1.0000\n",
      "Epoch 8/30\n",
      "10/10 [==============================] - 0s 499us/step - loss: 3.8743e-07 - acc: 1.0000\n",
      "Epoch 9/30\n",
      "10/10 [==============================] - 0s 496us/step - loss: 3.3379e-07 - acc: 1.0000\n",
      "Epoch 10/30\n",
      "10/10 [==============================] - 0s 845us/step - loss: 3.2187e-07 - acc: 1.0000\n",
      "Epoch 11/30\n",
      "10/10 [==============================] - 0s 801us/step - loss: 2.9206e-07 - acc: 1.0000\n",
      "Epoch 12/30\n",
      "10/10 [==============================] - 0s 489us/step - loss: 2.7418e-07 - acc: 1.0000\n",
      "Epoch 13/30\n",
      "10/10 [==============================] - 0s 511us/step - loss: 2.6226e-07 - acc: 1.0000\n",
      "Epoch 14/30\n",
      "10/10 [==============================] - 0s 594us/step - loss: 2.3246e-07 - acc: 1.0000\n",
      "Epoch 15/30\n",
      "10/10 [==============================] - 0s 672us/step - loss: 2.3246e-07 - acc: 1.0000\n",
      "Epoch 16/30\n",
      "10/10 [==============================] - 0s 503us/step - loss: 2.3246e-07 - acc: 1.0000\n",
      "Epoch 17/30\n",
      "10/10 [==============================] - 0s 482us/step - loss: 2.0862e-07 - acc: 1.0000\n",
      "Epoch 18/30\n",
      "10/10 [==============================] - 0s 755us/step - loss: 2.2054e-07 - acc: 1.0000\n",
      "Epoch 19/30\n",
      "10/10 [==============================] - 0s 501us/step - loss: 2.0862e-07 - acc: 1.0000\n",
      "Epoch 20/30\n",
      "10/10 [==============================] - 0s 519us/step - loss: 2.0862e-07 - acc: 1.0000\n",
      "Epoch 21/30\n",
      "10/10 [==============================] - 0s 517us/step - loss: 1.7881e-07 - acc: 1.0000\n",
      "Epoch 22/30\n",
      "10/10 [==============================] - 0s 851us/step - loss: 1.6093e-07 - acc: 1.0000\n",
      "Epoch 23/30\n",
      "10/10 [==============================] - 0s 570us/step - loss: 1.6689e-07 - acc: 1.0000\n",
      "Epoch 24/30\n",
      "10/10 [==============================] - 0s 628us/step - loss: 1.7881e-07 - acc: 1.0000\n",
      "Epoch 25/30\n",
      "10/10 [==============================] - 0s 774us/step - loss: 1.6093e-07 - acc: 1.0000\n",
      "Epoch 26/30\n",
      "10/10 [==============================] - 0s 891us/step - loss: 1.5497e-07 - acc: 1.0000\n",
      "Epoch 27/30\n",
      "10/10 [==============================] - 0s 573us/step - loss: 1.5497e-07 - acc: 1.0000\n",
      "Epoch 28/30\n",
      "10/10 [==============================] - 0s 544us/step - loss: 1.5497e-07 - acc: 1.0000\n",
      "Epoch 29/30\n",
      "10/10 [==============================] - 0s 568us/step - loss: 1.5497e-07 - acc: 1.0000\n",
      "Epoch 30/30\n",
      "10/10 [==============================] - 0s 578us/step - loss: 1.4305e-07 - acc: 1.0000\n",
      "2/2 [==============================] - 0s 48ms/step\n"
     ]
    }
   ],
   "source": [
    "from keras.layers import Dropout, Flatten, Dense\n",
    "from keras.models import Sequential\n",
    "\n",
    "#MLP model structre\n",
    "model = Sequential()\n",
    "model.add(Dense(256, activation='relu', input_dim=3750))\n",
    "model.add(Dense(128, activation='relu'))\n",
    "model.add(Dense(16, activation='relu'))\n",
    "model.add(Dense(1, activation='sigmoid'))\n",
    "\n",
    "model.summary()\n",
    "\n",
    "\n",
    "model.compile(optimizer='rmsprop',\n",
    "              loss='binary_crossentropy',\n",
    "              metrics=['accuracy'])\n",
    "\n",
    "model.fit(train_data, train_target, \n",
    "          epochs=30,batch_size=16,verbose=1)\n",
    "\n",
    "score = model.evaluate(tensor_test, test_target)"
   ]
  },
  {
   "cell_type": "code",
   "execution_count": 43,
   "metadata": {},
   "outputs": [
    {
     "name": "stdout",
     "output_type": "stream",
     "text": [
      "[1.192093321833454e-07, 1.0]\n"
     ]
    }
   ],
   "source": [
    "print(score)"
   ]
  },
  {
   "cell_type": "code",
   "execution_count": null,
   "metadata": {},
   "outputs": [],
   "source": []
  }
 ],
 "metadata": {
  "kernelspec": {
   "display_name": "Python 3",
   "language": "python",
   "name": "python3"
  },
  "language_info": {
   "codemirror_mode": {
    "name": "ipython",
    "version": 3
   },
   "file_extension": ".py",
   "mimetype": "text/x-python",
   "name": "python",
   "nbconvert_exporter": "python",
   "pygments_lexer": "ipython3",
   "version": "3.7.3"
  }
 },
 "nbformat": 4,
 "nbformat_minor": 2
}
