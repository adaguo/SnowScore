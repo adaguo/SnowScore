{
 "cells": [
  {
   "cell_type": "code",
   "execution_count": 1,
   "metadata": {},
   "outputs": [],
   "source": [
    "import json\n",
    "import glob\n",
    "import os\n",
    "import numpy"
   ]
  },
  {
   "cell_type": "code",
   "execution_count": 4,
   "metadata": {},
   "outputs": [],
   "source": [
    "def read_json_files(path_to_file):\n",
    "    with open(path_to_file) as p:\n",
    "        return json.load(p)\n",
    "        \n",
    "\n",
    "def giant_list(json_files):\n",
    "    return [read_json_files(f) for f in json_files]\n",
    "\n",
    "def parse_json(json_file):\n",
    "    if len(json_file['people']) > 0:\n",
    "        return json_file['people'][0].get('pose_keypoints_2d', [])\n",
    "    \n",
    "    return []\n",
    "\n",
    "def format_XY(XY):\n",
    "    X = [xy[::3] for xy in XY]\n",
    "    Y = [xy[1::3] for xy in XY]\n",
    "    \n",
    "    return numpy.array(X), numpy.array(Y)\n",
    "\n",
    "def normalize_input_data(input_data):\n",
    "    #print(input_data)\n",
    "    max_d, min_d = numpy.max(input_data), numpy.min(input_data)\n",
    "    #print(max_d, min_d)\n",
    "    return (input_data-min_d) / (max_d-min_d)\n",
    "\n",
    "def preprocessing(file_path, cut_off=75):\n",
    "    origin_json = giant_list(sorted(glob.glob(file_path), key=os.path.getmtime))\n",
    "    XY = [parse_json(j) for j in origin_json]\n",
    "    XY = [xy for xy in XY if xy][:75]\n",
    "    \n",
    "    X, Y = format_XY(XY)\n",
    "    print(X.shape, Y.shape)\n",
    "    \n",
    "    X = normalize_input_data(X)\n",
    "    Y = normalize_input_data(Y)\n",
    "    return [X, Y]\n",
    "    \n",
    "    \n",
    "def preprocessiongDir(dir_path):\n",
    "    path = os.listdir(dir_path)\n",
    "    samples = [preprocessing(dir_path+f) for f in path]\n",
    "    return numpy.array(samples).reshape[-1]\n",
    "    \n",
    "    "
   ]
  },
  {
   "cell_type": "code",
   "execution_count": 5,
   "metadata": {},
   "outputs": [
    {
     "name": "stdout",
     "output_type": "stream",
     "text": [
      "(75, 25) (75, 25)\n",
      "(75, 25) (75, 25)\n"
     ]
    }
   ],
   "source": [
    "file_path1 = \"../openpose/output/MyPlayground-52-of-67/*.json\"\n",
    "X1, Y1 = preprocessing(file_path1)\n",
    "file_path2 = \"../openpose/output/MyPlayground-59-of-67/*.json\"\n",
    "X2, Y2 = preprocessing(file_path2)\n"
   ]
  },
  {
   "cell_type": "code",
   "execution_count": 6,
   "metadata": {},
   "outputs": [
    {
     "name": "stdout",
     "output_type": "stream",
     "text": [
      "(75, 25) (75, 25)\n"
     ]
    }
   ],
   "source": [
    "file_path3 = \"../openpose/output/MyPlayground-58-of-67/*.json\"\n",
    "X3, Y3 = preprocessing(file_path3)"
   ]
  },
  {
   "cell_type": "code",
   "execution_count": 7,
   "metadata": {},
   "outputs": [],
   "source": [
    "input_1 = numpy.array([X1, Y1]).reshape(-1)\n",
    "input_2 = numpy.array([X2, Y2]).reshape(-1)"
   ]
  },
  {
   "cell_type": "markdown",
   "metadata": {},
   "source": []
  },
  {
   "cell_type": "code",
   "execution_count": 8,
   "metadata": {},
   "outputs": [],
   "source": [
    "train_data = numpy.array([input_1, input_2])"
   ]
  },
  {
   "cell_type": "code",
   "execution_count": 9,
   "metadata": {},
   "outputs": [
    {
     "data": {
      "text/plain": [
       "(2, 3750)"
      ]
     },
     "execution_count": 9,
     "metadata": {},
     "output_type": "execute_result"
    }
   ],
   "source": [
    "train_data.shape"
   ]
  },
  {
   "cell_type": "code",
   "execution_count": 10,
   "metadata": {},
   "outputs": [],
   "source": [
    "train_target = numpy.array([1,1])"
   ]
  },
  {
   "cell_type": "code",
   "execution_count": 11,
   "metadata": {},
   "outputs": [
    {
     "name": "stderr",
     "output_type": "stream",
     "text": [
      "Using TensorFlow backend.\n"
     ]
    },
    {
     "name": "stdout",
     "output_type": "stream",
     "text": [
      "WARNING:tensorflow:From /usr/local/lib/python3.7/site-packages/tensorflow/python/framework/op_def_library.py:263: colocate_with (from tensorflow.python.framework.ops) is deprecated and will be removed in a future version.\n",
      "Instructions for updating:\n",
      "Colocations handled automatically by placer.\n",
      "_________________________________________________________________\n",
      "Layer (type)                 Output Shape              Param #   \n",
      "=================================================================\n",
      "dense_1 (Dense)              (None, 256)               960256    \n",
      "_________________________________________________________________\n",
      "dense_2 (Dense)              (None, 128)               32896     \n",
      "_________________________________________________________________\n",
      "dense_3 (Dense)              (None, 16)                2064      \n",
      "_________________________________________________________________\n",
      "dense_4 (Dense)              (None, 1)                 17        \n",
      "=================================================================\n",
      "Total params: 995,233\n",
      "Trainable params: 995,233\n",
      "Non-trainable params: 0\n",
      "_________________________________________________________________\n",
      "WARNING:tensorflow:From /usr/local/lib/python3.7/site-packages/tensorflow/python/ops/math_ops.py:3066: to_int32 (from tensorflow.python.ops.math_ops) is deprecated and will be removed in a future version.\n",
      "Instructions for updating:\n",
      "Use tf.cast instead.\n",
      "Epoch 1/30\n",
      "2/2 [==============================] - 0s 128ms/step - loss: 0.6756 - acc: 0.5000\n",
      "Epoch 2/30\n",
      "2/2 [==============================] - 0s 3ms/step - loss: 3.5763e-07 - acc: 1.0000\n",
      "Epoch 3/30\n",
      "2/2 [==============================] - 0s 3ms/step - loss: 1.1921e-07 - acc: 1.0000\n",
      "Epoch 4/30\n",
      "2/2 [==============================] - 0s 3ms/step - loss: 1.1921e-07 - acc: 1.0000\n",
      "Epoch 5/30\n",
      "2/2 [==============================] - 0s 3ms/step - loss: 1.1921e-07 - acc: 1.0000\n",
      "Epoch 6/30\n",
      "2/2 [==============================] - 0s 4ms/step - loss: 1.1921e-07 - acc: 1.0000\n",
      "Epoch 7/30\n",
      "2/2 [==============================] - 0s 4ms/step - loss: 1.1921e-07 - acc: 1.0000\n",
      "Epoch 8/30\n",
      "2/2 [==============================] - 0s 4ms/step - loss: 1.1921e-07 - acc: 1.0000\n",
      "Epoch 9/30\n",
      "2/2 [==============================] - 0s 5ms/step - loss: 1.1921e-07 - acc: 1.0000\n",
      "Epoch 10/30\n",
      "2/2 [==============================] - 0s 3ms/step - loss: 1.1921e-07 - acc: 1.0000\n",
      "Epoch 11/30\n",
      "2/2 [==============================] - 0s 5ms/step - loss: 1.1921e-07 - acc: 1.0000\n",
      "Epoch 12/30\n",
      "2/2 [==============================] - 0s 3ms/step - loss: 1.1921e-07 - acc: 1.0000\n",
      "Epoch 13/30\n",
      "2/2 [==============================] - 0s 4ms/step - loss: 1.1921e-07 - acc: 1.0000\n",
      "Epoch 14/30\n",
      "2/2 [==============================] - 0s 4ms/step - loss: 1.1921e-07 - acc: 1.0000\n",
      "Epoch 15/30\n",
      "2/2 [==============================] - 0s 4ms/step - loss: 1.1921e-07 - acc: 1.0000\n",
      "Epoch 16/30\n",
      "2/2 [==============================] - 0s 3ms/step - loss: 1.1921e-07 - acc: 1.0000\n",
      "Epoch 17/30\n",
      "2/2 [==============================] - 0s 4ms/step - loss: 1.1921e-07 - acc: 1.0000\n",
      "Epoch 18/30\n",
      "2/2 [==============================] - 0s 5ms/step - loss: 1.1921e-07 - acc: 1.0000\n",
      "Epoch 19/30\n",
      "2/2 [==============================] - 0s 4ms/step - loss: 1.1921e-07 - acc: 1.0000\n",
      "Epoch 20/30\n",
      "2/2 [==============================] - 0s 3ms/step - loss: 1.1921e-07 - acc: 1.0000\n",
      "Epoch 21/30\n",
      "2/2 [==============================] - 0s 3ms/step - loss: 1.1921e-07 - acc: 1.0000\n",
      "Epoch 22/30\n",
      "2/2 [==============================] - 0s 4ms/step - loss: 1.1921e-07 - acc: 1.0000\n",
      "Epoch 23/30\n",
      "2/2 [==============================] - 0s 3ms/step - loss: 1.1921e-07 - acc: 1.0000\n",
      "Epoch 24/30\n",
      "2/2 [==============================] - 0s 3ms/step - loss: 1.1921e-07 - acc: 1.0000\n",
      "Epoch 25/30\n",
      "2/2 [==============================] - 0s 2ms/step - loss: 1.1921e-07 - acc: 1.0000\n",
      "Epoch 26/30\n",
      "2/2 [==============================] - 0s 4ms/step - loss: 1.1921e-07 - acc: 1.0000\n",
      "Epoch 27/30\n",
      "2/2 [==============================] - 0s 3ms/step - loss: 1.1921e-07 - acc: 1.0000\n",
      "Epoch 28/30\n",
      "2/2 [==============================] - 0s 3ms/step - loss: 1.1921e-07 - acc: 1.0000\n",
      "Epoch 29/30\n",
      "2/2 [==============================] - 0s 4ms/step - loss: 1.1921e-07 - acc: 1.0000\n",
      "Epoch 30/30\n",
      "2/2 [==============================] - 0s 3ms/step - loss: 1.1921e-07 - acc: 1.0000\n"
     ]
    },
    {
     "ename": "NameError",
     "evalue": "name 'tensor_test' is not defined",
     "output_type": "error",
     "traceback": [
      "\u001b[0;31m---------------------------------------------------------------------------\u001b[0m",
      "\u001b[0;31mNameError\u001b[0m                                 Traceback (most recent call last)",
      "\u001b[0;32m<ipython-input-11-09cf573276eb>\u001b[0m in \u001b[0;36m<module>\u001b[0;34m\u001b[0m\n\u001b[1;32m     19\u001b[0m           epochs=30,batch_size=16,verbose=1)\n\u001b[1;32m     20\u001b[0m \u001b[0;34m\u001b[0m\u001b[0m\n\u001b[0;32m---> 21\u001b[0;31m \u001b[0mscore\u001b[0m \u001b[0;34m=\u001b[0m \u001b[0mmodel\u001b[0m\u001b[0;34m.\u001b[0m\u001b[0mevaluate\u001b[0m\u001b[0;34m(\u001b[0m\u001b[0mtensor_test\u001b[0m\u001b[0;34m,\u001b[0m \u001b[0mtest_target\u001b[0m\u001b[0;34m)\u001b[0m\u001b[0;34m\u001b[0m\u001b[0;34m\u001b[0m\u001b[0m\n\u001b[0m",
      "\u001b[0;31mNameError\u001b[0m: name 'tensor_test' is not defined"
     ]
    }
   ],
   "source": [
    "from keras.layers import Dropout, Flatten, Dense\n",
    "from keras.models import Sequential\n",
    "\n",
    "#MLP model structre\n",
    "model = Sequential()\n",
    "model.add(Dense(256, activation='relu', input_dim=3750))\n",
    "model.add(Dense(128, activation='relu'))\n",
    "model.add(Dense(16, activation='relu'))\n",
    "model.add(Dense(1, activation='sigmoid'))\n",
    "\n",
    "model.summary()\n",
    "\n",
    "\n",
    "model.compile(optimizer='rmsprop',\n",
    "              loss='binary_crossentropy',\n",
    "              metrics=['accuracy'])\n",
    "\n",
    "model.fit(train_data, train_target, \n",
    "          epochs=30,batch_size=16,verbose=1)\n",
    "\n",
    "score = model.evaluate(tensor_test, test_target)"
   ]
  },
  {
   "cell_type": "code",
   "execution_count": null,
   "metadata": {},
   "outputs": [],
   "source": []
  }
 ],
 "metadata": {
  "kernelspec": {
   "display_name": "Python 3",
   "language": "python",
   "name": "python3"
  },
  "language_info": {
   "codemirror_mode": {
    "name": "ipython",
    "version": 3
   },
   "file_extension": ".py",
   "mimetype": "text/x-python",
   "name": "python",
   "nbconvert_exporter": "python",
   "pygments_lexer": "ipython3",
   "version": "3.7.3"
  }
 },
 "nbformat": 4,
 "nbformat_minor": 2
}
